{
 "cells": [
  {
   "cell_type": "markdown",
   "id": "8a06f8d8",
   "metadata": {},
   "source": [
    "# The 5 R's"
   ]
  },
  {
   "cell_type": "markdown",
   "id": "b3f9a73a",
   "metadata": {},
   "source": [
    "Below, we rank the pseudo-code, python, c++ and R package implementations for the Jarvis March algorithm, all with respect to the 5 R's, as outlined in Benureau, Rougier (2018). \n",
    "\n",
    "\n",
    "| | Replicable | Reproducable | Repeatable | Rerunnable | Reusable |\n",
    "| --- | --- | --- | --- | --- | --- |\n",
    "| Pseudocode | 1 | 4 | 4 | 4 | 4 |\n",
    "| Python | 2 | 1 | 1 | 1 | 3 |\n",
    "| C++ | 4 | 1 | 3 | 2 | 3 |\n",
    "| R package | 3 | 1 | 1 | 3 | 1 |\n",
    "\n",
    "\n",
    "##### Replicate\n",
    "\n",
    "Replicability refers to the ability for a third party to replicate the work carried out, achieving similar results. This is where the pseudo-code is most applicable. Based off this, a user can carry out independent work in producing their own implementation of the algorithm. On their own, the other variants are somewhat replicable, and the ranking is based on the ease of interpretation of the code. The ordering of positions 2 to 4 are based off which syntax I personally believed to be most easily-interpreted and replicated.\n",
    "\n",
    "This is the only of the 5 R's where pseudo-code is applicable.\n",
    "\n",
    "##### Reproduce\n",
    "\n",
    "In order to be reproducable, we would expect the code to produce the same output, when implemented on different machines. \n",
    "\n",
    "In all the above settings, we are implementing a deterministic procedure so there are no pseudo-random numbers involved. This means that there will be no differences in output, even if there were to be version differences for the software being used.\n",
    "\n",
    "For all three coding implementations, these were initially tested using a vitrual machine, however, the same results were produced using a windows machine. This is expected to be the case on any machine to be used.\n",
    "\n",
    "For the python code, c++ code and R package it isn't possible to rank, as they are all equally reproducable, therefore, they share the position of rank 1.\n",
    "\n",
    "The pseudo-code is not comparable in this respect, so is placed 4th.\n",
    "\n",
    "##### Repeat\n",
    "\n",
    "In all of the coding settings, the algorithms are repeatable. There is no stochasticity in the way the algorithm obtains a convex hull, therefore, it is deterministic and will always produce the same answers when repeating the experiment.\n",
    "\n",
    "Of the three implementations, both python and the R package can be seen as easily repeatable. The c++ implementation brings with it the issue of the c++ kernel. If a user wanted to repeat the experiment, they would first have to reset the kernel. For this reason, we deem the python and R package implementations to be joint first, with the c++ code taking 3rd place.\n",
    "\n",
    "Again, the pseudo-code cannot be compared in this setting.\n",
    "\n",
    "##### Re-run\n",
    "\n",
    "In order for code to be re-runnable you should be able to reproduce your answers at a later point in time. The main instance when re-runnablitiy would be violated is with version differences in software, or changes to the way in which non-base functions are defined. \n",
    "\n",
    "For python, c++ and the R package, all of the methods should be implementable for all future updates to their respective softwares. The only difference is that the python implementation utilises only base python, whilst the c++ implementation (and as a consequence, the R package) need c++ libraries in order to run. In these cases, it is highly unlikely that there will be any changes to the libraries that would cause an issue, as these are standard libraries. However, in ranking these, we place python in 1st, followed by c++, then the R package. Again, the pseudo-code isn't comparable here.\n",
    "\n",
    "##### Reuse\n",
    "\n",
    "In both the python and c++ implementations, the code is highly re-usable. In both settings there is suitable and clear commenting - outlining each of the steps. Whilst there might be more succinct methods for carrying out the Jarvis March algorithm, in both cases, the user has a step-by-step walkthrough of the process, along with justification for certain choices. There are no hard-coded, magic numbers, again, allowing for easy reusability in different settings to the one the code was created for. \n",
    "\n",
    "The R package brings with it an extra level of reusability, in the form of a README file and implementations, test cases and error checking all present in the package. Furthermore, placing the package within a Github repository means that the code can be reused simply from any machine.\n",
    "\n",
    "In terms of input, the R package is the most reusable due to the fact it can take both a dataframe and a list as input - allowing for easier reuability in a number of settings. The c++ and python implementations both take data of a single input type (list of vectors for python, vector of vectors for c++).\n",
    "\n",
    "Taking all this into account we determine the R package to have the best reusability, followed by the c++ and python in joint 3rd.\n",
    "\n",
    "Finally, the pseudo-code cannot be considered once again."
   ]
  }
 ],
 "metadata": {
  "kernelspec": {
   "display_name": "R",
   "language": "R",
   "name": "ir"
  },
  "language_info": {
   "codemirror_mode": "r",
   "file_extension": ".r",
   "mimetype": "text/x-r-source",
   "name": "R",
   "pygments_lexer": "r",
   "version": "4.1.2"
  }
 },
 "nbformat": 4,
 "nbformat_minor": 5
}
